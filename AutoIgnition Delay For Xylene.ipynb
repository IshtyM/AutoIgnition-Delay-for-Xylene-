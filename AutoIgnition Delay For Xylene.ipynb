{
 "cells": [
  {
   "cell_type": "markdown",
   "metadata": {},
   "source": [
    "### AutoIgnition Delay for 0.625 % R-Xylene in Batch Reactor Using the Chemkin Format File"
   ]
  },
  {
   "cell_type": "markdown",
   "metadata": {},
   "source": [
    "### Importing the Libraries"
   ]
  },
  {
   "cell_type": "code",
   "execution_count": 1,
   "metadata": {},
   "outputs": [
    {
     "name": "stdout",
     "output_type": "stream",
     "text": [
      "Runnning Cantera version: 2.5.1\n"
     ]
    }
   ],
   "source": [
    "from __future__ import division\n",
    "from __future__ import print_function\n",
    "\n",
    "import pandas as pd\n",
    "import numpy as np\n",
    "import matplotlib.pyplot as plt\n",
    "\n",
    "import time\n",
    "\n",
    "import cantera as ct\n",
    "print('Runnning Cantera version: ' + ct.__version__)"
   ]
  },
  {
   "cell_type": "markdown",
   "metadata": {},
   "source": [
    "### Creating the Ideal Gas Reactor "
   ]
  },
  {
   "cell_type": "code",
   "execution_count": 2,
   "metadata": {},
   "outputs": [],
   "source": [
    "gas = ct.Solution('xylene.cti')\n",
    "\n",
    "reactorTemperature = 1500 #Kelvin\n",
    "reactorPressure = 8*101325.0 #Pascals\n",
    "\n",
    "gas.TPX = reactorTemperature, reactorPressure , 'RXYLENE: 0.00625, o2 :0.06562, Ar:0.92812'\n",
    "\n",
    "\n",
    "r = ct.IdealGasReactor(contents=gas, name='Batch Reactor')\n",
    "reactorNetwork = ct.ReactorNet([r])\n",
    "\n",
    "\n",
    "stateVariableNames = [r.component_name(item) for item in range(r.n_vars)]"
   ]
  },
  {
   "cell_type": "markdown",
   "metadata": {},
   "source": [
    "### Creating the Dataframes"
   ]
  },
  {
   "cell_type": "code",
   "execution_count": 3,
   "metadata": {},
   "outputs": [],
   "source": [
    "timeHistory = pd.DataFrame(columns=stateVariableNames)\n",
    "\n",
    "def ignitionDelay(df, species):\n",
    "    return df[species].idxmax()\n",
    "\n",
    "T = np.arange(1428.57, 1691.66,20)\n",
    "\n",
    "estimatedIgnitionDelayTimes = np.ones(len(T))\n",
    "\n",
    "\n",
    "estimatedIgnitionDelayTimes[:6] = 6*[0.01]\n",
    "estimatedIgnitionDelayTimes[-2:] = 1\n",
    "estimatedIgnitionDelayTimes[-1] = 10\n",
    "\n",
    "\n",
    "ignitionDelays = pd.DataFrame(data={'T': T})\n",
    "ignitionDelays['ignDelay'] = np.nan"
   ]
  },
  {
   "cell_type": "code",
   "execution_count": 4,
   "metadata": {},
   "outputs": [
    {
     "name": "stdout",
     "output_type": "stream",
     "text": [
      "Computed Ignition Delay: 1.635e-04 seconds for T=1428.57K. Took 20.12s to compute\n",
      "Computed Ignition Delay: 1.398e-04 seconds for T=1448.57K. Took 40.38s to compute\n",
      "Computed Ignition Delay: 1.197e-04 seconds for T=1468.57K. Took 18.63s to compute\n",
      "Computed Ignition Delay: 1.030e-04 seconds for T=1488.57K. Took 28.91s to compute\n",
      "Computed Ignition Delay: 8.921e-05 seconds for T=1508.57K. Took 26.45s to compute\n",
      "Computed Ignition Delay: 7.743e-05 seconds for T=1528.57K. Took 45.94s to compute\n",
      "Computed Ignition Delay: 6.731e-05 seconds for T=1548.57K. Took 28.21s to compute\n",
      "Computed Ignition Delay: 5.871e-05 seconds for T=1568.57K. Took 28.55s to compute\n",
      "Computed Ignition Delay: 5.150e-05 seconds for T=1588.57K. Took 44.34s to compute\n",
      "Computed Ignition Delay: 4.561e-05 seconds for T=1608.57K. Took 34.32s to compute\n",
      "Computed Ignition Delay: 4.036e-05 seconds for T=1628.57K. Took 35.48s to compute\n",
      "Computed Ignition Delay: 3.563e-05 seconds for T=1648.57K. Took 35.55s to compute\n",
      "Computed Ignition Delay: 3.171e-05 seconds for T=1668.57K. Took 32.82s to compute\n",
      "Computed Ignition Delay: 2.852e-05 seconds for T=1688.57K. Took 27.04s to compute\n"
     ]
    }
   ],
   "source": [
    "for i, temperature in enumerate(T):\n",
    "    reactorTemperature = temperature\n",
    "    reactorPressure = 6*101325.0\n",
    "    gas.TPX = reactorTemperature, reactorPressure,  'RXYLENE: 0.00625, o2 :0.06562, Ar:0.92812'\n",
    "    r = ct.IdealGasReactor(contents=gas, name='Batch Reactor')\n",
    "    reactorNetwork = ct.ReactorNet([r])\n",
    "\n",
    "    timeHistory = pd.DataFrame(columns=timeHistory.columns)\n",
    "\n",
    "    t0 = time.time()\n",
    "\n",
    "    t = 0\n",
    "    counter = 0\n",
    "    while t < estimatedIgnitionDelayTimes[i]:\n",
    "        t = reactorNetwork.step()\n",
    "        if not counter % 20:\n",
    "            timeHistory.loc[t] = r.get_state()\n",
    "        counter += 1\n",
    "\n",
    "    tau = ignitionDelay(timeHistory, 'OH')\n",
    "    t1 = time.time()\n",
    "\n",
    "    print('Computed Ignition Delay: {:.3e} seconds for T={}K. Took {:3.2f}s to compute'.format(tau, temperature, t1-t0))\n",
    "\n",
    "    ignitionDelays.at[i, 'ignDelay'] = tau"
   ]
  },
  {
   "cell_type": "markdown",
   "metadata": {},
   "source": [
    "### Ploting and DataFraming the Ignition Delay with Temperature"
   ]
  },
  {
   "cell_type": "code",
   "execution_count": 5,
   "metadata": {},
   "outputs": [
    {
     "data": {
      "text/plain": [
       "Text(0.5, 1.0, 'For RXylene, For 0.625%')"
      ]
     },
     "execution_count": 5,
     "metadata": {},
     "output_type": "execute_result"
    },
    {
     "data": {
      "image/png": "[encoded data removed]",
      "text/plain": [
       "<Figure size 432x288 with 1 Axes>"
      ]
     },
     "metadata": {
      "needs_background": "light"
     },
     "output_type": "display_data"
    }
   ],
   "source": [
    "fig = plt.figure()\n",
    "ax = fig.add_subplot(111)\n",
    "ax.semilogy(1000/ignitionDelays['T'], (ignitionDelays['ignDelay']*(1000000)), '+-',color ='r')\n",
    "ax.set_ylabel('Auto-Ignition Delay (micro-s)')\n",
    "ax.set_xlabel(r'$\\frac{1000}{T (K)}$', fontsize=18)\n",
    "ignitionDelays['ignDelay']*(1000000)\n",
    "ax.set_ylim([1, 10000])\n",
    "ax.legend(['R-xylene, Conc 0.625%'])\n",
    "ax.set_title(\"For RXylene, For 0.625%\")"
   ]
  },
  {
   "cell_type": "code",
   "execution_count": 7,
   "metadata": {},
   "outputs": [
    {
     "data": {
      "text/html": [
       "<div>\n",
       "<style scoped>\n",
       "    .dataframe tbody tr th:only-of-type {\n",
       "        vertical-align: middle;\n",
       "    }\n",
       "\n",
       "    .dataframe tbody tr th {\n",
       "        vertical-align: top;\n",
       "    }\n",
       "\n",
       "    .dataframe thead th {\n",
       "        text-align: right;\n",
       "    }\n",
       "</style>\n",
       "<table border=\"1\" class=\"dataframe\">\n",
       "  <thead>\n",
       "    <tr style=\"text-align: right;\">\n",
       "      <th></th>\n",
       "      <th>T</th>\n",
       "      <th>ignDelay</th>\n",
       "    </tr>\n",
       "  </thead>\n",
       "  <tbody>\n",
       "    <tr>\n",
       "      <th>0</th>\n",
       "      <td>1428.57</td>\n",
       "      <td>0.000164</td>\n",
       "    </tr>\n",
       "    <tr>\n",
       "      <th>1</th>\n",
       "      <td>1448.57</td>\n",
       "      <td>0.000140</td>\n",
       "    </tr>\n",
       "    <tr>\n",
       "      <th>2</th>\n",
       "      <td>1468.57</td>\n",
       "      <td>0.000120</td>\n",
       "    </tr>\n",
       "    <tr>\n",
       "      <th>3</th>\n",
       "      <td>1488.57</td>\n",
       "      <td>0.000103</td>\n",
       "    </tr>\n",
       "    <tr>\n",
       "      <th>4</th>\n",
       "      <td>1508.57</td>\n",
       "      <td>0.000089</td>\n",
       "    </tr>\n",
       "    <tr>\n",
       "      <th>5</th>\n",
       "      <td>1528.57</td>\n",
       "      <td>0.000077</td>\n",
       "    </tr>\n",
       "    <tr>\n",
       "      <th>6</th>\n",
       "      <td>1548.57</td>\n",
       "      <td>0.000067</td>\n",
       "    </tr>\n",
       "    <tr>\n",
       "      <th>7</th>\n",
       "      <td>1568.57</td>\n",
       "      <td>0.000059</td>\n",
       "    </tr>\n",
       "    <tr>\n",
       "      <th>8</th>\n",
       "      <td>1588.57</td>\n",
       "      <td>0.000051</td>\n",
       "    </tr>\n",
       "    <tr>\n",
       "      <th>9</th>\n",
       "      <td>1608.57</td>\n",
       "      <td>0.000046</td>\n",
       "    </tr>\n",
       "    <tr>\n",
       "      <th>10</th>\n",
       "      <td>1628.57</td>\n",
       "      <td>0.000040</td>\n",
       "    </tr>\n",
       "    <tr>\n",
       "      <th>11</th>\n",
       "      <td>1648.57</td>\n",
       "      <td>0.000036</td>\n",
       "    </tr>\n",
       "    <tr>\n",
       "      <th>12</th>\n",
       "      <td>1668.57</td>\n",
       "      <td>0.000032</td>\n",
       "    </tr>\n",
       "    <tr>\n",
       "      <th>13</th>\n",
       "      <td>1688.57</td>\n",
       "      <td>0.000029</td>\n",
       "    </tr>\n",
       "  </tbody>\n",
       "</table>\n",
       "</div>"
      ],
      "text/plain": [
       "          T  ignDelay\n",
       "0   1428.57  0.000164\n",
       "1   1448.57  0.000140\n",
       "2   1468.57  0.000120\n",
       "3   1488.57  0.000103\n",
       "4   1508.57  0.000089\n",
       "5   1528.57  0.000077\n",
       "6   1548.57  0.000067\n",
       "7   1568.57  0.000059\n",
       "8   1588.57  0.000051\n",
       "9   1608.57  0.000046\n",
       "10  1628.57  0.000040\n",
       "11  1648.57  0.000036\n",
       "12  1668.57  0.000032\n",
       "13  1688.57  0.000029"
      ]
     },
     "execution_count": 7,
     "metadata": {},
     "output_type": "execute_result"
    }
   ],
   "source": [
    "ignitionDelays"
   ]
  }
 ],
 "metadata": {
  "kernelspec": {
   "display_name": "Python 3",
   "language": "python",
   "name": "python3"
  },
  "language_info": {
   "codemirror_mode": {
    "name": "ipython",
    "version": 3
   },
   "file_extension": ".py",
   "mimetype": "text/x-python",
   "name": "python",
   "nbconvert_exporter": "python",
   "pygments_lexer": "ipython3",
   "version": "3.8.5"
  }
 },
 "nbformat": 4,
 "nbformat_minor": 4
}
